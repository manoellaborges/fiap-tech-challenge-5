{
  "cells": [
    {
      "cell_type": "code",
      "execution_count": 13,
      "metadata": {},
      "outputs": [
        {
          "name": "stdout",
          "output_type": "stream",
          "text": [
            "Collecting textblob\n",
            "  Downloading textblob-0.19.0-py3-none-any.whl.metadata (4.4 kB)\n",
            "Requirement already satisfied: nltk>=3.9 in /home/nikolly/fiap/fiap-tech-challenge-5/.venv/lib/python3.10/site-packages (from textblob) (3.9.1)\n",
            "Requirement already satisfied: click in /home/nikolly/fiap/fiap-tech-challenge-5/.venv/lib/python3.10/site-packages (from nltk>=3.9->textblob) (8.1.8)\n",
            "Requirement already satisfied: joblib in /home/nikolly/fiap/fiap-tech-challenge-5/.venv/lib/python3.10/site-packages (from nltk>=3.9->textblob) (1.4.2)\n",
            "Requirement already satisfied: regex>=2021.8.3 in /home/nikolly/fiap/fiap-tech-challenge-5/.venv/lib/python3.10/site-packages (from nltk>=3.9->textblob) (2024.11.6)\n",
            "Requirement already satisfied: tqdm in /home/nikolly/fiap/fiap-tech-challenge-5/.venv/lib/python3.10/site-packages (from nltk>=3.9->textblob) (4.67.1)\n",
            "Downloading textblob-0.19.0-py3-none-any.whl (624 kB)\n",
            "\u001b[2K   \u001b[90m━━━━━━━━━━━━━━━━━━━━━━━━━━━━━━━━━━━━━━━\u001b[0m \u001b[32m624.3/624.3 kB\u001b[0m \u001b[31m289.7 kB/s\u001b[0m eta \u001b[36m0:00:00\u001b[0m \u001b[36m0:00:01\u001b[0m\n",
            "\u001b[?25hInstalling collected packages: textblob\n",
            "Successfully installed textblob-0.19.0\n"
          ]
        }
      ],
      "source": [
        "!pip install textblob"
      ]
    },
    {
      "cell_type": "code",
      "execution_count": 9,
      "metadata": {
        "id": "3zSOmO1gEx5o"
      },
      "outputs": [],
      "source": [
        "import pandas as pd\n",
        "import numpy as np\n",
        "import ast\n",
        "import nltk\n",
        "from sklearn.feature_extraction.text import TfidfVectorizer\n",
        "from sklearn.preprocessing import MinMaxScaler, OneHotEncoder\n",
        "from sklearn.metrics.pairwise import cosine_similarity\n",
        "from datetime import datetime\n",
        "import scipy.sparse as sp\n",
        "import os"
      ]
    },
    {
      "cell_type": "code",
      "execution_count": 10,
      "metadata": {
        "id": "LTQLfIYNytie"
      },
      "outputs": [],
      "source": [
        "pasta_treino = '../../data/files/treino'\n",
        "pasta_itens = '../../data/itens/itens'"
      ]
    },
    {
      "cell_type": "code",
      "execution_count": 11,
      "metadata": {
        "id": "Xyj_AaAbyyrE"
      },
      "outputs": [],
      "source": [
        "# Listar arquivos de cada pasta\n",
        "arquivos_treino = [os.path.join(pasta_treino, f) for f in os.listdir(pasta_treino) if f.endswith('.csv')]\n",
        "arquivos_itens = [os.path.join(pasta_itens, f) for f in os.listdir(pasta_itens) if f.endswith('.csv')]"
      ]
    },
    {
      "cell_type": "code",
      "execution_count": null,
      "metadata": {
        "id": "g2eJECMk4lna"
      },
      "outputs": [],
      "source": [
        "# Carregar arquivos de treinamento e itens em DataFrames únicos\n",
        "training_data = pd.concat((pd.read_csv(f) for f in arquivos_treino), ignore_index=True)\n",
        "# itens_data = pd.concat((pd.read_csv(f) for f in arquivos_itens), ignore_index=True)"
      ]
    },
    {
      "cell_type": "code",
      "execution_count": null,
      "metadata": {
        "id": "WV26ihJbtDTh"
      },
      "outputs": [],
      "source": [
        "# Converter a coluna history para listas reais\n",
        "def convert_to_list(x):\n",
        "    if isinstance(x, str):\n",
        "        try:\n",
        "            return ast.literal_eval(x)  # Tenta avaliar como uma lista/dicionário\n",
        "        except (ValueError, SyntaxError):  # Se falhar, converte a string em uma lista de strings separadas por vírgulas\n",
        "            return x.split(',')  # ou outra lógica para transformar a string em uma lista\n",
        "    return x"
      ]
    },
    {
      "cell_type": "code",
      "execution_count": 14,
      "metadata": {
        "id": "XUKS3DQu4wYG"
      },
      "outputs": [],
      "source": [
        "# Aplicando a conversão\n",
        "training_data['history'] = training_data['history'].apply(convert_to_list)"
      ]
    },
    {
      "cell_type": "code",
      "execution_count": 15,
      "metadata": {
        "id": "Ub3TmOve457o"
      },
      "outputs": [],
      "source": [
        "# Explodir os históricos (cada item vira uma linha)\n",
        "\n",
        "training_data = training_data.explode('history')"
      ]
    },
    {
      "cell_type": "code",
      "execution_count": 16,
      "metadata": {
        "id": "ldkIt-g-o152"
      },
      "outputs": [],
      "source": [
        "# Mesclar os dados de usuários com os atributos das notícias\n",
        "\n",
        "training_data = training_data.merge(itens_data, left_on='history', right_on='page', how='left')"
      ]
    },
    {
      "cell_type": "code",
      "execution_count": 17,
      "metadata": {
        "id": "fuzD3_x45o2E"
      },
      "outputs": [],
      "source": [
        "# Processar as datas corretamente\n",
        "for col in ['issued', 'modified']:\n",
        "    itens_data[col] = pd.to_datetime(itens_data[col], errors='coerce').dt.tz_localize(None)"
      ]
    },
    {
      "cell_type": "code",
      "execution_count": 18,
      "metadata": {
        "id": "AlurPOfw5wBW"
      },
      "outputs": [],
      "source": [
        "# Criar features temporais\n",
        "itens_data['news_age'] = (datetime.now() - itens_data['issued']).dt.days\n",
        "itens_data['modification_frequency'] = (itens_data['modified'] - itens_data['issued']).dt.days"
      ]
    },
    {
      "cell_type": "code",
      "execution_count": 19,
      "metadata": {
        "id": "kIib4TolrkF8"
      },
      "outputs": [],
      "source": [
        "# Garantir que os valores de timestampHistory são strings e extrair números\n",
        "training_data['timestampHistory'] = pd.to_numeric(\n",
        "    training_data['timestampHistory'].astype(str).str.extract(r'(\\d+)')[0],\n",
        "    errors='coerce'\n",
        ")"
      ]
    },
    {
      "cell_type": "code",
      "execution_count": 20,
      "metadata": {
        "id": "6JBy-PoCrycg"
      },
      "outputs": [],
      "source": [
        "# Converter para datetime\n",
        "training_data['timestampHistory'] = pd.to_datetime(training_data['timestampHistory'], unit='ms')"
      ]
    },
    {
      "cell_type": "code",
      "execution_count": 21,
      "metadata": {
        "id": "vlojWtd8sacR"
      },
      "outputs": [],
      "source": [
        "# Converter colunas numéricas corretamente\n",
        "num_cols = ['timeOnPageHistory', 'numberOfClicksHistory', 'scrollPercentageHistory', 'pageVisitsCountHistory']\n",
        "training_data[num_cols] = training_data[num_cols].apply(pd.to_numeric, errors='coerce')"
      ]
    },
    {
      "cell_type": "code",
      "execution_count": 24,
      "metadata": {
        "id": "rWHAc5hJsiI2"
      },
      "outputs": [],
      "source": [
        "# Criar features de usuário\n",
        "training_data['total_news_read'] = training_data.groupby('userId')['history'].transform('count')\n",
        "training_data['mean_time_on_page'] = training_data.groupby('userId')['timeOnPageHistory'].transform('mean')\n",
        "training_data['var_time_on_page'] = training_data.groupby('userId')['timeOnPageHistory'].transform('var')\n",
        "training_data['recency'] = (datetime.now() - training_data['timestampHistory']).dt.days"
      ]
    },
    {
      "cell_type": "code",
      "execution_count": 25,
      "metadata": {
        "id": "E-t37OdPsq7M"
      },
      "outputs": [],
      "source": [
        "# Converte as colunas para datetime sem fuso horário (tz-naive)\n",
        "itens_data['issued'] = pd.to_datetime(itens_data['issued']).dt.tz_localize(None)\n",
        "itens_data['modified'] = pd.to_datetime(itens_data['modified']).dt.tz_localize(None)\n",
        "\n",
        "# Agora, cria as features\n",
        "itens_data['news_age'] = (datetime.now() - itens_data['issued']).dt.days\n",
        "itens_data['modification_frequency'] = (itens_data['modified'] - itens_data['issued']).dt.days"
      ]
    },
    {
      "cell_type": "code",
      "execution_count": 26,
      "metadata": {
        "colab": {
          "base_uri": "https://localhost:8080/"
        },
        "id": "VvNqMtrKzknP",
        "outputId": "ef3f62b6-fa04-4942-dd81-0da90979c1f7"
      },
      "outputs": [
        {
          "name": "stderr",
          "output_type": "stream",
          "text": [
            "[nltk_data] Downloading package stopwords to\n",
            "[nltk_data]     /home/nikolly/nltk_data...\n",
            "[nltk_data]   Package stopwords is already up-to-date!\n"
          ]
        },
        {
          "data": {
            "text/plain": [
              "True"
            ]
          },
          "execution_count": 26,
          "metadata": {},
          "output_type": "execute_result"
        }
      ],
      "source": [
        "# Baixar stopwords apenas uma vez\n",
        "nltk.download('stopwords')"
      ]
    },
    {
      "cell_type": "code",
      "execution_count": 27,
      "metadata": {
        "id": "5Hbw0uoUw55m"
      },
      "outputs": [],
      "source": [
        "from nltk.corpus import stopwords"
      ]
    },
    {
      "cell_type": "code",
      "execution_count": 28,
      "metadata": {
        "id": "2Rhh3m6h657-"
      },
      "outputs": [],
      "source": [
        "# Converter para lista\n",
        "stop_words = list(stopwords.words('portuguese'))"
      ]
    },
    {
      "cell_type": "code",
      "execution_count": 29,
      "metadata": {
        "id": "xUj-O7utzByh"
      },
      "outputs": [],
      "source": [
        "# Criar o vectorizer com as stopwords em português\n",
        "tfidf_vectorizer = TfidfVectorizer(stop_words=stop_words)\n",
        "tfidf_matrix = tfidf_vectorizer.fit_transform(itens_data['body'].fillna(''))"
      ]
    },
    {
      "cell_type": "code",
      "execution_count": 30,
      "metadata": {
        "id": "6oNcI6jXJtMc"
      },
      "outputs": [],
      "source": [
        "# Selecionar features de usuário\n",
        "user_feature_cols = ['total_news_read', 'mean_time_on_page', 'var_time_on_page', 'recency']\n",
        "user_features = training_data[['userId'] + user_feature_cols].drop_duplicates()"
      ]
    },
    {
      "cell_type": "code",
      "execution_count": 31,
      "metadata": {
        "id": "9IVg-C3OyJxw"
      },
      "outputs": [],
      "source": [
        "# Criar matriz TF-IDF\n",
        "tfidf_vectorizer = TfidfVectorizer(stop_words=stop_words)\n",
        "tfidf_matrix = tfidf_vectorizer.fit_transform(itens_data['body'].fillna(''))"
      ]
    },
    {
      "cell_type": "code",
      "execution_count": 32,
      "metadata": {
        "id": "oo8r7C8uyLeX"
      },
      "outputs": [],
      "source": [
        "# Normalizar features numéricas\n",
        "feature_cols = ['news_age', 'modification_frequency']\n",
        "itens_data_features = itens_data[feature_cols].fillna(0)\n",
        "scaler = MinMaxScaler()\n",
        "itens_data_features_scaled = scaler.fit_transform(itens_data_features)"
      ]
    },
    {
      "cell_type": "code",
      "execution_count": 33,
      "metadata": {
        "colab": {
          "base_uri": "https://localhost:8080/"
        },
        "id": "GIGDxWXdyNIc",
        "outputId": "2fecbddb-b0ad-47a5-9017-e77e5c4e575b"
      },
      "outputs": [
        {
          "name": "stderr",
          "output_type": "stream",
          "text": [
            "/home/nikolly/fiap/fiap-tech-challenge-5/.venv/lib/python3.10/site-packages/sklearn/utils/_array_api.py:776: RuntimeWarning: All-NaN slice encountered\n",
            "  return xp.asarray(numpy.nanmin(X, axis=axis))\n",
            "/home/nikolly/fiap/fiap-tech-challenge-5/.venv/lib/python3.10/site-packages/sklearn/utils/_array_api.py:793: RuntimeWarning: All-NaN slice encountered\n",
            "  return xp.asarray(numpy.nanmax(X, axis=axis))\n"
          ]
        }
      ],
      "source": [
        "# Normalizar features de usuário\n",
        "scaler_user = MinMaxScaler()\n",
        "user_features_scaled = scaler_user.fit_transform(user_features[user_feature_cols])"
      ]
    },
    {
      "cell_type": "code",
      "execution_count": null,
      "metadata": {
        "colab": {
          "base_uri": "https://localhost:8080/",
          "height": 321
        },
        "id": "R2dfbJXnyOr3",
        "outputId": "34dbaff4-dc3b-4bda-da16-facad74f6fe3"
      },
      "outputs": [],
      "source": [
        "# Transformar categorias em vetores numéricos\n",
        "encoder = OneHotEncoder(handle_unknown='ignore')\n",
        "categorias_encoded = encoder.fit_transform(itens_data[['category']])"
      ]
    },
    {
      "cell_type": "code",
      "execution_count": null,
      "metadata": {
        "id": "hNC0IiQ2yQNI"
      },
      "outputs": [],
      "source": [
        "# Combinar TF-IDF com features numéricas, categorias e usuário\n",
        "tfidf_plus_features_users = sp.hstack((tfidf_matrix, itens_data_features_scaled, categorias_encoded))\n"
      ]
    },
    {
      "cell_type": "code",
      "execution_count": null,
      "metadata": {
        "id": "gJh32o6NyRum"
      },
      "outputs": [],
      "source": [
        "\n",
        "# Calcular similaridade\n",
        "similaridade_completa = cosine_similarity(tfidf_plus_features_users)"
      ]
    }
  ],
  "metadata": {
    "colab": {
      "provenance": []
    },
    "kernelspec": {
      "display_name": ".venv",
      "language": "python",
      "name": "python3"
    },
    "language_info": {
      "codemirror_mode": {
        "name": "ipython",
        "version": 3
      },
      "file_extension": ".py",
      "mimetype": "text/x-python",
      "name": "python",
      "nbconvert_exporter": "python",
      "pygments_lexer": "ipython3",
      "version": "3.10.2"
    }
  },
  "nbformat": 4,
  "nbformat_minor": 0
}
